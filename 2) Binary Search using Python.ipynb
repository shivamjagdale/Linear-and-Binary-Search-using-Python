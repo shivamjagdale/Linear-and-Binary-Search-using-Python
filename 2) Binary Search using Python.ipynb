{
 "cells": [
  {
   "cell_type": "code",
   "execution_count": 11,
   "id": "6c8173bd",
   "metadata": {},
   "outputs": [
    {
     "name": "stdout",
     "output_type": "stream",
     "text": [
      "Enter the amount of elements you want in your sequence4\n",
      "Enter 4  elements\n",
      "235\n",
      "12\n",
      "23\n",
      "45\n",
      "The elements in a sorted order are  [12, 23, 45, 235]\n",
      "Enter the element you want to be searched in a sequence:- 2365\n",
      "2365 The element has not been found in the sequence\n"
     ]
    }
   ],
   "source": [
    "# Binary Search using Python\n",
    "\n",
    "l = list()\n",
    "\n",
    "n = int(input(\"Enter the amount of elements you want in your sequence\"))\n",
    "\n",
    "print(\"Enter\", n, \" elements\")\n",
    "\n",
    "for i in range(n):\n",
    "    l.append(int(input()))\n",
    "    \n",
    "    \n",
    "l.sort()\n",
    "print(\"The elements in a sorted order are \", l)\n",
    "\n",
    "s = int(input(\"Enter the element you want to be searched in a sequence:- \"))\n",
    "\n",
    "low = 0\n",
    "high = len(l)-1\n",
    "mid = 0\n",
    "\n",
    "while low<=high:\n",
    "    mid = (low+high)//2\n",
    "    \n",
    "    if l[mid]==s:\n",
    "        print(s, \" the element has been found at\", mid+1)\n",
    "        break\n",
    "    elif l[mid]>s:\n",
    "        high = mid - 1\n",
    "        \n",
    "    elif l[mid]<s:\n",
    "        low = mid + 1\n",
    "else:\n",
    "    print(s, \"The element has not been found in the sequence\")"
   ]
  },
  {
   "cell_type": "code",
   "execution_count": null,
   "id": "1e76aaa4",
   "metadata": {},
   "outputs": [],
   "source": []
  }
 ],
 "metadata": {
  "kernelspec": {
   "display_name": "Python 3 (ipykernel)",
   "language": "python",
   "name": "python3"
  },
  "language_info": {
   "codemirror_mode": {
    "name": "ipython",
    "version": 3
   },
   "file_extension": ".py",
   "mimetype": "text/x-python",
   "name": "python",
   "nbconvert_exporter": "python",
   "pygments_lexer": "ipython3",
   "version": "3.9.12"
  }
 },
 "nbformat": 4,
 "nbformat_minor": 5
}
