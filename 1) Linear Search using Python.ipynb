{
 "cells": [
  {
   "cell_type": "code",
   "execution_count": 1,
   "id": "7229907b",
   "metadata": {},
   "outputs": [
    {
     "name": "stdout",
     "output_type": "stream",
     "text": [
      "Enter the number of elements to be inserted into list. 4\n",
      "Enter 4 values\n",
      "10\n",
      "20\n",
      "30\n",
      "40\n",
      "Enter element to be searched200\n",
      "200  is not found in list\n"
     ]
    }
   ],
   "source": [
    "# Linear Search using Python\n",
    "\n",
    "l = list()\n",
    "\n",
    "n = int(input(\"Enter the number of elements to be inserted into list. \"))\n",
    "\n",
    "# Now read all the values\n",
    "print(\"Enter\", n , \"values\")\n",
    "\n",
    "for i in range(n):\n",
    "    l.append(int(input()))\n",
    "    \n",
    "# Now get the search element\n",
    "\n",
    "s=int(input(\"Enter element to be searched\"))\n",
    "\n",
    "# compare each and every element with the search element \n",
    "\n",
    "for i in range(len(l)-1):\n",
    "    if l[i]==s:\n",
    "        print(s, \" is found at position \", i+1) # Here the index will start from zero, that means if the position is 3 index will be 2\n",
    "        break # If it has found the element, you need not compare for the remaining elements \n",
    "else:\n",
    "    print(s, \" is not found in list\")"
   ]
  },
  {
   "cell_type": "code",
   "execution_count": null,
   "id": "1356a93d",
   "metadata": {},
   "outputs": [],
   "source": []
  }
 ],
 "metadata": {
  "kernelspec": {
   "display_name": "Python 3 (ipykernel)",
   "language": "python",
   "name": "python3"
  },
  "language_info": {
   "codemirror_mode": {
    "name": "ipython",
    "version": 3
   },
   "file_extension": ".py",
   "mimetype": "text/x-python",
   "name": "python",
   "nbconvert_exporter": "python",
   "pygments_lexer": "ipython3",
   "version": "3.9.12"
  }
 },
 "nbformat": 4,
 "nbformat_minor": 5
}
