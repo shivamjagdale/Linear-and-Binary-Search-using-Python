{
 "cells": [
  {
   "cell_type": "code",
   "execution_count": 5,
   "id": "5599a0e7",
   "metadata": {},
   "outputs": [
    {
     "name": "stdout",
     "output_type": "stream",
     "text": [
      "Enter the number of elements you want in your sequence4\n",
      "Enter 4  number of elements\n",
      "15\n",
      "11\n",
      "33\n",
      "141\n",
      "The elements after sorting [11, 15, 33, 141]\n",
      "Enter the element you want to be searched :- 222\n",
      "222  element has not been found\n"
     ]
    }
   ],
   "source": [
    "# Binary Search using Python\n",
    "\n",
    "l = list()\n",
    "\n",
    "n = int(input(\"Enter the number of elements you want in your sequence\"))\n",
    "\n",
    "print(\"Enter\", n ,\" number of elements\")\n",
    "\n",
    "for i in range(n):\n",
    "    l.append(int(input()))\n",
    "    \n",
    "l.sort()\n",
    "print(\"The elements after sorting\", l)\n",
    "    \n",
    "s = int(input(\"Enter the element you want to be searched :- \"))    \n",
    "\n",
    "low = 0\n",
    "high = len(l)-1\n",
    "mid = 0\n",
    "\n",
    "while low<=high:\n",
    "    \n",
    "    mid = (low+high)//2\n",
    "    \n",
    "    if l[mid]==s:\n",
    "        print(s,\" element has found at position\", mid+1)\n",
    "        break\n",
    "        \n",
    "    elif l[mid]<s:\n",
    "        high = mid-1\n",
    "    \n",
    "    elif l[mid]>s:\n",
    "        low = mid+1\n",
    "else:\n",
    "    print(s, \" element has not been found\")"
   ]
  },
  {
   "cell_type": "code",
   "execution_count": null,
   "id": "48287881",
   "metadata": {},
   "outputs": [],
   "source": []
  }
 ],
 "metadata": {
  "kernelspec": {
   "display_name": "Python 3 (ipykernel)",
   "language": "python",
   "name": "python3"
  },
  "language_info": {
   "codemirror_mode": {
    "name": "ipython",
    "version": 3
   },
   "file_extension": ".py",
   "mimetype": "text/x-python",
   "name": "python",
   "nbconvert_exporter": "python",
   "pygments_lexer": "ipython3",
   "version": "3.9.12"
  }
 },
 "nbformat": 4,
 "nbformat_minor": 5
}
